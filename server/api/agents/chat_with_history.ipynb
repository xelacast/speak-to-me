{
 "cells": [
  {
   "cell_type": "code",
   "execution_count": 22,
   "metadata": {},
   "outputs": [],
   "source": [
    "from langchain_openai import ChatOpenAI\n",
    "from langchain import hub\n",
    "from langchain_core.output_parsers import StrOutputParser\n",
    "from langchain_core.prompts import ChatPromptTemplate, MessagesPlaceholder\n",
    "from langchain_core.runnables.history import RunnableWithMessageHistory\n",
    "from langchain.memory import ChatMessageHistory\n",
    "\n",
    "from langchain.pydantic_v1 import BaseModel, Field\n",
    "\n",
    "from typing import Optional\n",
    "\n",
    "\n",
    "#### OUTPUT SCHEMA ####\n",
    "class LockState(BaseModel):\n",
    "    color: Optional[str] = Field(..., description=\"FORMAT TEXT COLORS TO HEX. First color found. If no color is found then return none. Format the color to hex format before returning.\")\n",
    "    lock_type: Optional[str] = Field(..., description=\"The type of lock to be updated. The VALUES to choose from: ['open', 'closed', 'none', 'half-opened']\")\n",
    "\n",
    "system_prompt = \"\"\"\n",
    "You are an expert extraction algorithm.\n",
    "Only extract relevant information from the text.\n",
    "If you do not know the value of an attribute asked to extract,\n",
    "return null for the attribute's value.\n",
    "\n",
    "Parse the text and find a color and lock type if present.\n",
    "\n",
    "Turn all colors to hex format.\n",
    "\n",
    "TAKE YOUR TIME TO THINK\n",
    "\"\"\"\n",
    "\n",
    "# 1 init model\n",
    "model = ChatOpenAI(model=\"gpt-3.5-turbo\", temperature=0)\n",
    "\n",
    "# 2 create prompt\n",
    "prompt = ChatPromptTemplate.from_messages(\n",
    "    [\n",
    "        (\n",
    "            \"system\",\n",
    "            system_prompt\n",
    "        ),\n",
    "        MessagesPlaceholder(variable_name=\"chat_history\"),\n",
    "        (\"human\", \"{input}\")\n",
    "    ]\n",
    ")\n",
    "# 2 create chat History\n",
    "chat_history = ChatMessageHistory()\n",
    "chat_model_with_tools = model.with_structured_output(LockState)\n",
    "chat_chain = prompt | model\n",
    "\n",
    "chat_chain_with_history = RunnableWithMessageHistory(\n",
    "    chat_chain,\n",
    "    lambda session_id: chat_history,\n",
    "    input_messages_key=\"input\",\n",
    "    history_messages_key=\"chat_history\"\n",
    ")"
   ]
  },
  {
   "cell_type": "code",
   "execution_count": 23,
   "metadata": {},
   "outputs": [
    {
     "data": {
      "text/plain": [
       "AIMessage(content='{\\n    \"color\": \"#000000\",\\n    \"lock_type\": \"closed\"\\n}', response_metadata={'token_usage': {'completion_tokens': 18, 'prompt_tokens': 83, 'total_tokens': 101}, 'model_name': 'gpt-3.5-turbo', 'system_fingerprint': 'fp_b28b39ffa8', 'finish_reason': 'stop', 'logprobs': None}, id='run-3760d136-2bd7-4d29-8ca3-deee3505829e-0')"
      ]
     },
     "execution_count": 23,
     "metadata": {},
     "output_type": "execute_result"
    }
   ],
   "source": [
    "chat_chain_with_history.invoke({\"input\": \"Turn the lock to black and closed\"}, {'configurable': {\"session_id\": \"123\"}})"
   ]
  },
  {
   "cell_type": "code",
   "execution_count": 19,
   "metadata": {},
   "outputs": [
    {
     "data": {
      "text/plain": [
       "AIMessage(content='{\\n  \"color\": \"#008000\",\\n  \"state\": \"opened\"\\n}', response_metadata={'token_usage': {'completion_tokens': 17, 'prompt_tokens': 116, 'total_tokens': 133}, 'model_name': 'gpt-3.5-turbo', 'system_fingerprint': 'fp_b28b39ffa8', 'finish_reason': 'stop', 'logprobs': None}, id='run-ca43e675-14cb-4366-b364-1700078888d1-0')"
      ]
     },
     "execution_count": 19,
     "metadata": {},
     "output_type": "execute_result"
    }
   ],
   "source": [
    "chat_chain_with_history.invoke({\"input\": \"Turn the lock green and opened it up.\"}, {'configurable': {\"session_id\": \"123\"}})"
   ]
  },
  {
   "cell_type": "code",
   "execution_count": 21,
   "metadata": {},
   "outputs": [
    {
     "data": {
      "text/plain": [
       "AIMessage(content='{\\n  \"color\": \"#008000\",\\n  \"state\": \"opened\"\\n}', response_metadata={'token_usage': {'completion_tokens': 17, 'prompt_tokens': 181, 'total_tokens': 198}, 'model_name': 'gpt-3.5-turbo', 'system_fingerprint': 'fp_b28b39ffa8', 'finish_reason': 'stop', 'logprobs': None}, id='run-dcddf4d6-703b-46d8-a10f-0a82ab0ea278-0')"
      ]
     },
     "execution_count": 21,
     "metadata": {},
     "output_type": "execute_result"
    }
   ],
   "source": [
    "chat_chain_with_history.invoke({\"input\": \"use the the second = message I sent\"}, {'configurable': {\"session_id\": \"123\"}})"
   ]
  },
  {
   "cell_type": "code",
   "execution_count": null,
   "metadata": {},
   "outputs": [],
   "source": []
  }
 ],
 "metadata": {
  "kernelspec": {
   "display_name": ".venv",
   "language": "python",
   "name": "python3"
  },
  "language_info": {
   "codemirror_mode": {
    "name": "ipython",
    "version": 3
   },
   "file_extension": ".py",
   "mimetype": "text/x-python",
   "name": "python",
   "nbconvert_exporter": "python",
   "pygments_lexer": "ipython3",
   "version": "3.11.8"
  }
 },
 "nbformat": 4,
 "nbformat_minor": 2
}
