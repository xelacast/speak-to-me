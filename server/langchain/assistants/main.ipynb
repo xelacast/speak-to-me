{
 "cells": [
  {
   "cell_type": "code",
   "execution_count": 1,
   "metadata": {},
   "outputs": [],
   "source": [
    "from langchain.agents.openai_assistant import OpenAIAssistantRunnable"
   ]
  },
  {
   "cell_type": "code",
   "execution_count": 2,
   "metadata": {},
   "outputs": [],
   "source": [
    "instructions = \"\"\"\n",
    "parse the text and find a color and lock type if present\n",
    "\n",
    "Example: Incoming text is \"I want a blue pair of jeans and a lock thats opened\". Lock type is 'open' color is 'blue'.\n",
    "Example: I want a shut lock that is #8a251e. Output: {{\"color\": \"#8a251e\", \"lock_type\": \"closed\"}}.\n",
    "\n",
    "- If no color is found then the value will be \"black\".\n",
    "- If there is MORE than one color found only use the first color.\n",
    "- Send only the first value of the color(s) to the Custom Tool.\n",
    "\n",
    "- THE ONLY values the lock_type can be are: 'open', 'closed', 'none', 'half-opened'. DO NOT RETURN ANY OTHER VALUES.\n",
    "- If NO lock type is found then the value will be \"closed\".\n",
    "- If there is MORE than one lock type found only use the first lock type.\n",
    "\n",
    "- Do not decide the value of the lock until you have read all instructions and the text.\n",
    "- FORMAT THE COLORS TO HEX FORMAT\n",
    "\n",
    "TAKE YOUR TIME TO THINK\n",
    "\n",
    "{input}\n",
    "\"\"\"\n",
    "\n",
    "color_and_lock_assistant = OpenAIAssistantRunnable.create_assistant(\n",
    "    name=\"color-and-lock\",\n",
    "    instructions=instructions,\n",
    "    tools=[],\n",
    "    model=\"gpt-3.5-turbo\",\n",
    ")"
   ]
  },
  {
   "cell_type": "code",
   "execution_count": 7,
   "metadata": {},
   "outputs": [
    {
     "data": {
      "text/plain": [
       "[Message(id='msg_UFG4yEQR3wUBG6e4cTGGSae8', assistant_id='asst_KU78LLtuUdGCWjMmk8ozNXEC', completed_at=None, content=[TextContentBlock(text=Text(annotations=[], value='{ \"color\": \"#40e0d0\", \"lock_type\": \"half-opened\" }'), type='text')], created_at=1711738964, file_ids=[], incomplete_at=None, incomplete_details=None, metadata={}, object='thread.message', role='assistant', run_id='run_EvCxuUHMj6GWwR0IOjHhxO2h', status=None, thread_id='thread_cDllidAMuLZRbeX5DXG9pFnb')]"
      ]
     },
     "execution_count": 7,
     "metadata": {},
     "output_type": "execute_result"
    }
   ],
   "source": [
    "output = color_and_lock_assistant.invoke({\"content\": \"What is light greenish blue and half way unlocked inside?\"})\n",
    "output"
   ]
  },
  {
   "cell_type": "code",
   "execution_count": null,
   "metadata": {},
   "outputs": [],
   "source": []
  }
 ],
 "metadata": {
  "kernelspec": {
   "display_name": ".venv",
   "language": "python",
   "name": "python3"
  },
  "language_info": {
   "codemirror_mode": {
    "name": "ipython",
    "version": 3
   },
   "file_extension": ".py",
   "mimetype": "text/x-python",
   "name": "python",
   "nbconvert_exporter": "python",
   "pygments_lexer": "ipython3",
   "version": "3.11.8"
  }
 },
 "nbformat": 4,
 "nbformat_minor": 2
}
