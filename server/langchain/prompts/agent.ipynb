{
 "cells": [
  {
   "cell_type": "code",
   "execution_count": 3,
   "metadata": {},
   "outputs": [],
   "source": [
    "from langchain.tools import DuckDuckGoSearchRun\n",
    "from langchain_core.output_parsers import StrOutputParser, JsonOutputParser\n",
    "from langchain_core.prompts import ChatPromptTemplate\n",
    "from langchain_openai import ChatOpenAI"
   ]
  },
  {
   "cell_type": "code",
   "execution_count": 59,
   "metadata": {},
   "outputs": [],
   "source": [
    "import requests\n",
    "from langchain.pydantic_v1 import BaseModel, Field\n",
    "from langchain.tools import BaseTool, StructuredTool, tool\n",
    "from langchain.tools.render import render_text_description\n",
    "\n",
    "class LockColor(BaseModel):\n",
    "    color: str = Field(description=\"first color\")\n",
    "\n",
    "@tool\n",
    "def sendRequest(color: str):\n",
    "    \"\"\"Sends the color to another place\"\"\"\n",
    "    response = requests.post(\"http://localhost:3000/api/lockcolor\", json={\"body\": {\"color\": color}})\n",
    "    print(\"IM INSIDE THIS BIT\")\n",
    "    try:\n",
    "        print(response)\n",
    "    except Exception as e:\n",
    "        print('error: ', e)\n",
    "\n",
    "    return f\"went through with {color}\"\n",
    "\n",
    "req = StructuredTool.from_function(\n",
    "    func=sendRequest,\n",
    "    name=\"SendRequest\",\n",
    "    description=\"Send a request to localhost\",\n",
    "    args_schema=LockColor,\n",
    "    handle_tool_error=True,\n",
    ")"
   ]
  },
  {
   "cell_type": "code",
   "execution_count": 55,
   "metadata": {},
   "outputs": [
    {
     "name": "stdout",
     "output_type": "stream",
     "text": [
      "IM INSIDE THIS BIT\n",
      "error\n",
      "IM INSIDE THIS BIT\n",
      "error\n"
     ]
    },
    {
     "data": {
      "text/plain": [
       "'went through with blue'"
      ]
     },
     "execution_count": 55,
     "metadata": {},
     "output_type": "execute_result"
    }
   ],
   "source": [
    "sendRequest.invoke('blue')\n",
    "req.run('blue')"
   ]
  },
  {
   "cell_type": "code",
   "execution_count": 60,
   "metadata": {},
   "outputs": [
    {
     "data": {
      "text/plain": [
       "'sendRequest: sendRequest(color: str) - Sends the color to another place'"
      ]
     },
     "execution_count": 60,
     "metadata": {},
     "output_type": "execute_result"
    }
   ],
   "source": [
    "rendered_tools = render_text_description([sendRequest])\n",
    "rendered_tools"
   ]
  },
  {
   "cell_type": "code",
   "execution_count": 61,
   "metadata": {},
   "outputs": [],
   "source": [
    "model = ChatOpenAI(model=\"gpt-3.5-turbo\")\n",
    "\n",
    "model_with_function = model.bind_tools([req])\n",
    "\n",
    "\n",
    "# prompt = ChatPromptTemplate.from_template(\"send a request to localhost with the color {color}. Return the response of the function and NOTHING ELSE.\")\n",
    "\n",
    "system_prompt = f\"\"\"\n",
    "You are an assistant that has access to the following set of tools. Here are the names and descriptions for each tool:\n",
    "\n",
    "{rendered_tools}\n",
    "\n",
    "Given the user input, return the name and input of the tool to use. Return your response as a JSON blob with 'name' and 'arguments' keys.\n",
    "\n",
    "You have a great eye for color.\n",
    "\"\"\"\n",
    "\n",
    "prompt = ChatPromptTemplate.from_messages(\n",
    "    [(\"system\", system_prompt), (\"user\", \"{input}\")]\n",
    ")\n",
    "\n",
    "\n",
    "# output_parser = StrOutputParser()\n",
    "output_parser = JsonOutputParser()\n",
    "\n",
    "chain = prompt | model | output_parser"
   ]
  },
  {
   "cell_type": "code",
   "execution_count": 70,
   "metadata": {},
   "outputs": [
    {
     "name": "stdout",
     "output_type": "stream",
     "text": [
      "IM INSIDE THIS BIT\n",
      "<Response [200]>\n"
     ]
    },
    {
     "data": {
      "text/plain": [
       "'went through with blue squadran'"
      ]
     },
     "execution_count": 70,
     "metadata": {},
     "output_type": "execute_result"
    }
   ],
   "source": [
    "chain.invoke({\"input\": \"Send in the blue squadran\"})"
   ]
  },
  {
   "cell_type": "code",
   "execution_count": null,
   "metadata": {},
   "outputs": [],
   "source": [
    "from operator import itemgetter\n",
    "\n",
    "chain = prompt | model | JsonOutputParser() | itemgetter(\"arguments\") | sendRequest\n",
    "chain.invoke({\"input\": \"whats blue and round?\"})"
   ]
  },
  {
   "cell_type": "code",
   "execution_count": 71,
   "metadata": {},
   "outputs": [
    {
     "data": {
      "text/plain": [
       "<Response [200]>"
      ]
     },
     "execution_count": 71,
     "metadata": {},
     "output_type": "execute_result"
    }
   ],
   "source": [
    "requests.post(\"http://localhost:3000/api/lockcolor\", data={\"key\": \"value\"},\n",
    "headers={\"Content-Type\": \"application/json\"},\n",
    ")"
   ]
  },
  {
   "cell_type": "code",
   "execution_count": null,
   "metadata": {},
   "outputs": [],
   "source": []
  }
 ],
 "metadata": {
  "kernelspec": {
   "display_name": ".venv",
   "language": "python",
   "name": "python3"
  },
  "language_info": {
   "codemirror_mode": {
    "name": "ipython",
    "version": 3
   },
   "file_extension": ".py",
   "mimetype": "text/x-python",
   "name": "python",
   "nbconvert_exporter": "python",
   "pygments_lexer": "ipython3",
   "version": "3.11.8"
  }
 },
 "nbformat": 4,
 "nbformat_minor": 2
}
